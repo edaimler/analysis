{
 "cells": [
  {
   "cell_type": "code",
   "execution_count": 278,
   "id": "c432241b",
   "metadata": {},
   "outputs": [],
   "source": [
    "from datetime import datetime, timedelta\n",
    "from dateutil.relativedelta import relativedelta\n",
    "from pathlib import Path\n",
    "import score_functions\n",
    "import pandas\n",
    "\n",
    "\n",
    "\n",
    "def open_file(org_double, docnumber, frame_name):\n",
    "    doc_dict = score_functions.parse_doc_title(org_double)\n",
    "\n",
    "    path = Path('F:\\TSREG\\Grantee Data')\n",
    "    year = path / doc_dict['year'] \n",
    "    prog = year / 'Progress Reports'\n",
    "    claim = year / 'Claims'\n",
    "    final = year / 'Final Reports'\n",
    "    \n",
    "    if docnumber[:1] == \"R\":\n",
    "        org = prog / doc_dict['organization']\n",
    "    if docnumber[:1] == \"C\":\n",
    "        org = claim / doc_dict['organization']\n",
    "    if docnumber[:1] == \"F\":\n",
    "        org = final / doc_dict['organization'] \n",
    "    \n",
    "    if not org.is_dir():\n",
    "        print(\"error: {} not found\", doc_dict['organization'])\n",
    "        return\n",
    "\n",
    "    filename = doc_dict['grantname']+'-'+docnumber+'.xlsx'\n",
    "    fullname = org / filename\n",
    "    \n",
    "    if not fullname.exists():\n",
    "        print(\"error: {} not found\", filename)\n",
    "        print(\"path is {}\", org)\n",
    "        return None\n",
    "    else: \n",
    "        df = pandas.read_excel(fullname, sheet_name = frame_name)\n",
    "        return df"
   ]
  },
  {
   "cell_type": "code",
   "execution_count": 279,
   "id": "ad7f360f",
   "metadata": {},
   "outputs": [
    {
     "data": {
      "text/plain": [
       "'\\ndef goals(org_double):\\n    achieved = open_file(org_double, \"R9\", \"achieved_milestones\")\\n    objectives = open_file(org_double, \"R9\", \"milestone\")\\n    \\n    \\n\\n    #TODO compare total objectives at R9 with achieved\\n'"
      ]
     },
     "execution_count": 279,
     "metadata": {},
     "output_type": "execute_result"
    }
   ],
   "source": [
    "'''\n",
    "def goals(org_double):\n",
    "    achieved = open_file(org_double, \"R9\", \"achieved_milestones\")\n",
    "    objectives = open_file(org_double, \"R9\", \"milestone\")\n",
    "    \n",
    "    \n",
    "\n",
    "    #TODO compare total objectives at R9 with achieved\n",
    "'''"
   ]
  },
  {
   "cell_type": "code",
   "execution_count": 280,
   "id": "d14a7ffb",
   "metadata": {},
   "outputs": [
    {
     "data": {
      "text/plain": [
       "'\\ndef milestones(org_double):\\n    achieved = open_file(org_double, \"R9\", \"achieved_milestones\")\\n    objectives = open_file(org_double, \"R9\", \"milestone\")\\n\\n    #TODO tabulate percentage of achieved milestones (cannot exceed 100%)\\n'"
      ]
     },
     "execution_count": 280,
     "metadata": {},
     "output_type": "execute_result"
    }
   ],
   "source": [
    "'''\n",
    "def milestones(org_double):\n",
    "    achieved = open_file(org_double, \"R9\", \"achieved_milestones\")\n",
    "    objectives = open_file(org_double, \"R9\", \"milestone\")\n",
    "\n",
    "    #TODO tabulate percentage of achieved milestones (cannot exceed 100%)\n",
    "'''"
   ]
  },
  {
   "cell_type": "code",
   "execution_count": 281,
   "id": "8fb6c4d8",
   "metadata": {},
   "outputs": [
    {
     "data": {
      "text/plain": [
       "'\\ndef spending(org_double):\\n    spend = open_file(org_double, \"C9\", \"expense\")\\n    # project budget total is column 1, row 12\\n    # pending balance is column 7, row 12\\n    # subtract pending from project total to get spent, then divide by project total\\n'"
      ]
     },
     "execution_count": 281,
     "metadata": {},
     "output_type": "execute_result"
    }
   ],
   "source": [
    "'''\n",
    "def spending(org_double):\n",
    "    spend = open_file(org_double, \"C9\", \"expense\")\n",
    "    # project budget total is column 1, row 12\n",
    "    # pending balance is column 7, row 12\n",
    "    # subtract pending from project total to get spent, then divide by project total\n",
    "'''"
   ]
  },
  {
   "cell_type": "code",
   "execution_count": 282,
   "id": "b1583543",
   "metadata": {},
   "outputs": [
    {
     "data": {
      "text/plain": [
       "'\\ndef quality():\\n    #TODO loop through reports 1 through 9\\n    # start score at 100%\\n    # if narrative string < some length, lower score\\n    # then average scores\\n'"
      ]
     },
     "execution_count": 282,
     "metadata": {},
     "output_type": "execute_result"
    }
   ],
   "source": [
    "'''\n",
    "def quality():\n",
    "    #TODO loop through reports 1 through 9\n",
    "    # start score at 100%\n",
    "    # if narrative string < some length, lower score\n",
    "    # then average scores\n",
    "'''"
   ]
  },
  {
   "cell_type": "code",
   "execution_count": 283,
   "id": "277ace14",
   "metadata": {},
   "outputs": [
    {
     "data": {
      "text/plain": [
       "'\\ndef timeliness(org_double):\\n    #TODO open all nine reports and gather dates of submission into a list\\n    # lower scores using the time scoring procedure\\n    # average scores\\n'"
      ]
     },
     "execution_count": 283,
     "metadata": {},
     "output_type": "execute_result"
    }
   ],
   "source": [
    "'''\n",
    "def timeliness(org_double):\n",
    "    #TODO open all nine reports and gather dates of submission into a list\n",
    "    # lower scores using the time scoring procedure\n",
    "    # average scores\n",
    "'''"
   ]
  },
  {
   "cell_type": "code",
   "execution_count": 284,
   "id": "304d3a51",
   "metadata": {},
   "outputs": [],
   "source": [
    "#def weight_score():"
   ]
  },
  {
   "cell_type": "code",
   "execution_count": 285,
   "id": "eb19024a",
   "metadata": {},
   "outputs": [],
   "source": [
    "#def grade_score(weighted_score):"
   ]
  },
  {
   "cell_type": "code",
   "execution_count": 286,
   "id": "9cc176d4",
   "metadata": {},
   "outputs": [],
   "source": [
    "achieved = open_file((\"DeKalb County Police Department\", \"TEN-2021-F.A.S.T. 402 PT-015\"), \"R5\", \"achieved_milestones\")\n",
    "objectives = open_file((\"DeKalb County Police Department\", \"TEN-2021-F.A.S.T. 402 PT-015\"), \"R5\", \"milestone\")"
   ]
  },
  {
   "cell_type": "code",
   "execution_count": 287,
   "id": "146154d0",
   "metadata": {},
   "outputs": [
    {
     "name": "stdout",
     "output_type": "stream",
     "text": [
      "   0  1  2  3  4   5   6   7   8   9  10  11\n",
      "0  1  1  1  1  1 NaN NaN NaN NaN NaN NaN NaN\n",
      "1  0  1  1  0  0 NaN NaN NaN NaN NaN NaN NaN\n",
      "2  1  0  0  0  0 NaN NaN NaN NaN NaN NaN NaN\n",
      "3  0  0  0  0  0 NaN NaN NaN NaN NaN NaN NaN\n",
      "4  1  1  1  1  1 NaN NaN NaN NaN NaN NaN NaN\n"
     ]
    }
   ],
   "source": [
    "achieved.pop('Unnamed: 0')\n",
    "print(achieved)"
   ]
  },
  {
   "cell_type": "code",
   "execution_count": 288,
   "id": "5ab8d16c",
   "metadata": {},
   "outputs": [
    {
     "data": {
      "text/plain": [
       "0    TOTAL\n",
       "1      105\n",
       "2       82\n",
       "3       51\n",
       "4       20\n",
       "5      125\n",
       "Name: 13, dtype: object"
      ]
     },
     "execution_count": 288,
     "metadata": {},
     "output_type": "execute_result"
    }
   ],
   "source": [
    "objectives.pop('Unnamed: 0')\n",
    "objectives.pop(0)\n",
    "objectives.pop(13)"
   ]
  },
  {
   "cell_type": "code",
   "execution_count": 289,
   "id": "8e0ff213",
   "metadata": {},
   "outputs": [
    {
     "name": "stdout",
     "output_type": "stream",
     "text": [
      "[3]\n",
      "[3, 2]\n",
      "[3, 2, 1]\n",
      "[3, 2, 1, 1]\n",
      "[3, 2, 1, 1, 5]\n"
     ]
    }
   ],
   "source": [
    "obj2 = objectives.drop([0], axis=0)\n",
    "obj2\n",
    "goals = []\n",
    "for i in range(obj2.shape[0]):\n",
    "    obj3 = obj2.iloc[i].astype(int)\n",
    "    goals.append(obj3[:5].sum())\n",
    "    print(goals)\n"
   ]
  },
  {
   "cell_type": "code",
   "execution_count": 290,
   "id": "12a49e9e",
   "metadata": {},
   "outputs": [
    {
     "name": "stdout",
     "output_type": "stream",
     "text": [
      "[5]\n",
      "[5, 2]\n",
      "[5, 2, 1]\n",
      "[5, 2, 1, 0]\n",
      "[5, 2, 1, 0, 5]\n"
     ]
    }
   ],
   "source": [
    "attempts = []\n",
    "for i in range(achieved.shape[0]):\n",
    "    remove_na = achieved.iloc[i].fillna(0)\n",
    "    ach = remove_na.astype(int)\n",
    "    attempts.append(ach[:5].sum())\n",
    "    print(attempts)"
   ]
  },
  {
   "cell_type": "code",
   "execution_count": 291,
   "id": "cc33684c",
   "metadata": {},
   "outputs": [
    {
     "name": "stdout",
     "output_type": "stream",
     "text": [
      "[1]\n",
      "[1, 1]\n",
      "[1, 1, 1]\n",
      "[1, 1, 1, 0.0]\n",
      "[1, 1, 1, 0.0, 1]\n",
      "0.8\n"
     ]
    }
   ],
   "source": [
    "milestones_score = []\n",
    "for i in range(len(goals)):\n",
    "    if attempts[i] >= goals[i]:\n",
    "        milestones_score.append(1)\n",
    "    else:\n",
    "        milestones_score.append(attempts[i]/goals[i])\n",
    "    print(milestones_score)\n",
    "milestones_score = sum(milestones_score)/len(milestones_score)\n",
    "print(milestones_score)"
   ]
  },
  {
   "cell_type": "code",
   "execution_count": 292,
   "id": "6bb70a0f",
   "metadata": {},
   "outputs": [
    {
     "name": "stdout",
     "output_type": "stream",
     "text": [
      "0.3675491324985375\n"
     ]
    }
   ],
   "source": [
    "spend = open_file((\"DeKalb County Police Department\", \"TEN-2021-F.A.S.T. 402 PT-015\"), \"C9\", \"expense\")\n",
    "budget_total = float(spend.iloc[12,2][1:].replace(\",\",\"\"))\n",
    "budget_pending = float(spend.iloc[12,8][1:].replace(\",\",\"\"))\n",
    "budget_spent = budget_total - budget_pending\n",
    "spend_score = budget_spent/budget_total\n",
    "print(spend_score)\n"
   ]
  },
  {
   "cell_type": "code",
   "execution_count": 293,
   "id": "378f9220",
   "metadata": {},
   "outputs": [
    {
     "name": "stdout",
     "output_type": "stream",
     "text": [
      "2021-07-16 00:00:00\n"
     ]
    }
   ],
   "source": [
    "duedate = datetime(2020, 10, 20)\n",
    "scorelist = []\n",
    "for i in range(12):\n",
    "    name = open_file((\"DeKalb County Police Department\", \"TEN-2021-F.A.S.T. 402 PT-015\"), \"R\"+str(i+1), \"name\")\n",
    "    datestring = name.iloc[5,6]\n",
    "    date_list = datestring.split(' ')\n",
    "    date = None\n",
    "    for i in date_list:\n",
    "        if i[0].isdigit():\n",
    "            date = datetime.strptime(i, '%m/%d/%Y')\n",
    "            break\n",
    "    duedate = duedate + relativedelta(months=1)\n",
    "    difference = date - duedate\n",
    "    if difference.days > 0:\n",
    "        scorelist.append(1.0)\n",
    "    elif 90 >= difference.days > 0:\n",
    "        scorelist.append(0.5)\n",
    "    elif 90 > difference.days:\n",
    "        scorelist.append(0.25)\n",
    "    else: scorelist.append(0.0)\n",
    "score = sum(scorelist)\n",
    "print(score)"
   ]
  },
  {
   "cell_type": "code",
   "execution_count": 313,
   "id": "1705d3d5",
   "metadata": {},
   "outputs": [
    {
     "name": "stdout",
     "output_type": "stream",
     "text": [
      "151\n",
      "121\n",
      "90\n",
      "59\n",
      "31\n",
      "0\n",
      "-30\n",
      "-61\n",
      "-91\n",
      "-122\n",
      "-153\n",
      "-183\n",
      "[1.0, 1.0, 1.0, 1.0, 1.0, 1.0, 0.25, 0.25, 0.25, 0.25, 0.25, 0.25]\n",
      "7.5\n"
     ]
    }
   ],
   "source": [
    "test = datetime(2020, 10, 20)\n",
    "scorelist = []\n",
    "for i in range(12):\n",
    "    test = test + relativedelta(months=1)\n",
    "    difference = datetime(2021, 4, 20) - test\n",
    "    if difference.days >= 0:\n",
    "        scorelist.append(1.0)\n",
    "    elif 90 >= difference.days > 0:\n",
    "        scorelist.append(0.5)\n",
    "    elif 90 > difference.days:\n",
    "        scorelist.append(0.25)\n",
    "    else: scorelist.append(0.0)\n",
    "    print(difference.days)\n",
    "print(scorelist)\n",
    "score = sum(scorelist)\n",
    "print(score)"
   ]
  },
  {
   "cell_type": "code",
   "execution_count": null,
   "id": "1e70a614",
   "metadata": {},
   "outputs": [],
   "source": [
    "#for i in range(9):\n",
    "name = open_file((\"DeKalb County Police Department\", \"TEN-2021-F.A.S.T. 402 PT-015\"), \"R\"+str(9), \"name\")\n"
   ]
  }
 ],
 "metadata": {
  "kernelspec": {
   "display_name": "Python 3 (ipykernel)",
   "language": "python",
   "name": "python3"
  },
  "language_info": {
   "codemirror_mode": {
    "name": "ipython",
    "version": 3
   },
   "file_extension": ".py",
   "mimetype": "text/x-python",
   "name": "python",
   "nbconvert_exporter": "python",
   "pygments_lexer": "ipython3",
   "version": "3.9.1"
  }
 },
 "nbformat": 4,
 "nbformat_minor": 5
}
